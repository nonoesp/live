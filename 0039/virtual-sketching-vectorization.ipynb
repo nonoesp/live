{
  "nbformat": 4,
  "nbformat_minor": 0,
  "metadata": {
    "colab": {
      "name": "2021.09.16 · Virtual Sketching · Live 39",
      "provenance": [],
      "collapsed_sections": []
    },
    "kernelspec": {
      "name": "python3",
      "display_name": "Python 3"
    },
    "language_info": {
      "name": "python"
    }
  },
  "cells": [
    {
      "cell_type": "markdown",
      "metadata": {
        "id": "YzmesBKvi_Yu"
      },
      "source": [
        "[![Open in Colab](https://colab.research.google.com/assets/colab-badge.svg)](https://colab.research.google.com/github/nonoesp/live/tree/main/0039/virtual-sketching-vectorization.ipynb)"
      ]
    },
    {
      "cell_type": "markdown",
      "metadata": {
        "id": "26147jxbrOsY"
      },
      "source": [
        "# Virtual Sketching\n",
        "\n",
        "A notebook by Nono Martínez Alonso (https://nono.ma) to clone the Virtual Sketching code and test its vectorization pre-trained model.\n",
        "\n",
        "## Install Dependencies"
      ]
    },
    {
      "cell_type": "code",
      "metadata": {
        "id": "uiOTBwpXq3M8"
      },
      "source": [
        "!pip3 install tensorflow==1.15 opencv-python pillow scipy gizeh"
      ],
      "execution_count": null,
      "outputs": []
    },
    {
      "cell_type": "code",
      "metadata": {
        "id": "CAq4Wm6zrDCf"
      },
      "source": [
        "import tensorflow as tf\n",
        "tf.__version__"
      ],
      "execution_count": null,
      "outputs": []
    },
    {
      "cell_type": "code",
      "metadata": {
        "id": "NSorY4IerFOz"
      },
      "source": [
        "!mkdir virtual_sketching/outputs/\n",
        "!mkdir virtual_sketching/outputs/snapshot/\n",
        "!mkdir virtual_sketching/outputs/snapshot/pretrain_clean_line_drawings"
      ],
      "execution_count": null,
      "outputs": []
    },
    {
      "cell_type": "markdown",
      "metadata": {
        "id": "izb0mwI4rJzh"
      },
      "source": [
        "## Download the model\n",
        "\n",
        "Note that I downloaded from a Dropbox link and this link may not be available when you run the notebook. =)"
      ]
    },
    {
      "cell_type": "code",
      "metadata": {
        "id": "ynl1CLJ8rGLo"
      },
      "source": [
        "# Download pre-trained model of rough sketches\n",
        "!wget -O virtual_sketching/outputs/snapshot/pretrain_clean_line_drawings/pretrain_clean_line_drawings.zip \\\n",
        "https://www.dropbox.com/s/si6gsjv1w2uk9cc/pretrain_clean_line_drawings.zip?dl=0\n",
        "\n",
        "# Unzip\n",
        "!cd virtual_sketching/outputs/snapshot/pretrain_clean_line_drawings &&\\\n",
        "ls && \\\n",
        "unzip pretrain_clean_line_drawings.zip"
      ],
      "execution_count": null,
      "outputs": []
    },
    {
      "cell_type": "code",
      "metadata": {
        "id": "ELfMyiSrrqIo"
      },
      "source": [
        "%cd virtual_sketching"
      ],
      "execution_count": null,
      "outputs": []
    },
    {
      "cell_type": "code",
      "metadata": {
        "id": "jHYTlpf5rrvT"
      },
      "source": [
        "!python3 test_vectorization.py --input muten.png"
      ],
      "execution_count": null,
      "outputs": []
    },
    {
      "cell_type": "markdown",
      "metadata": {
        "id": "9lP6vIXZsOcv"
      },
      "source": [
        "## Inspect vector data"
      ]
    },
    {
      "cell_type": "code",
      "metadata": {
        "id": "qyK_ViBLsP0c"
      },
      "source": [
        "import numpy as np\n",
        "seq_data = np.load('outputs/sampling/clean_line_drawings__pretrain_clean_line_drawings/seq_data/muten_0.npz')\n",
        "print(seq_data)\n",
        "print(seq_data.files)\n",
        "print(seq_data['strokes_data'])"
      ],
      "execution_count": null,
      "outputs": []
    }
  ]
}