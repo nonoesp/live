{
 "cells": [
  {
   "cell_type": "code",
   "execution_count": 1,
   "metadata": {},
   "outputs": [
    {
     "data": {
      "text/plain": [
       "'2.4.1'"
      ]
     },
     "execution_count": 1,
     "metadata": {},
     "output_type": "execute_result"
    }
   ],
   "source": [
    "import os\n",
    "# from PIL import Image\n",
    "# import matplotlib.pyplot as plt\n",
    "import tensorflow as tf\n",
    "tf.__version__"
   ]
  },
  {
   "cell_type": "code",
   "execution_count": 2,
   "metadata": {},
   "outputs": [],
   "source": [
    "data_augmentation = tf.keras.Sequential([\n",
    "#     tf.keras.layers.experimental.preprocessing.RandomFlip(\"horizontal_and_vertical\"),\n",
    "    tf.keras.layers.experimental.preprocessing.RandomRotation(0.02),\n",
    "    tf.keras.layers.experimental.preprocessing.RandomZoom(height_factor=.1, width_factor=0.1),    \n",
    "])"
   ]
  },
  {
   "cell_type": "code",
   "execution_count": 3,
   "metadata": {},
   "outputs": [
    {
     "name": "stdout",
     "output_type": "stream",
     "text": [
      "Augmenting 85 images in /Users/nono/Dropbox/2_Library/datasetsss/210203_sketch-nono-ma-1024px/images..\n",
      "Batch 1 (85, 1024, 1024, 3)\n"
     ]
    }
   ],
   "source": [
    "def load_img(img_path):\n",
    "    img = tf.io.read_file(img_path)\n",
    "    img = tf.image.decode_jpeg(img, channels=3)\n",
    "#     img = tf.image.convert_image_dtype(img, dtype=tf.float32)\n",
    "    img = tf.image.resize(img, size=(1024,1024))\n",
    "    return img\n",
    "\n",
    "directories = [\n",
    "    \"/Users/nono/Dropbox/2_Library/datasetsss/210203_sketch-nono-ma-1024px/images\",\n",
    "]\n",
    "\n",
    "for directory in directories:\n",
    "\n",
    "    glob_pattern = \"{}/*.jpg\".format(directory)\n",
    "    dataset = tf.data.Dataset.list_files(glob_pattern)\n",
    "    images = dataset.map(load_img)\n",
    "\n",
    "    print('Augmenting {} images in {}..'.format(len(images), directory))\n",
    "    \n",
    "    index = 0\n",
    "    batch_size = len(images)\n",
    "    output_dir = '{}-augmented'.format(directory)\n",
    "    if not os.path.exists(output_dir):\n",
    "        os.makedirs(output_dir)\n",
    "    augmentations = 9\n",
    "    \n",
    "    for batch in images.batch(batch_size):\n",
    "        print('Batch {} {}'.format(index + 1, batch.shape))\n",
    "\n",
    "        aug_index = 0\n",
    "        for i in range(augmentations):\n",
    "            augmented_batch = data_augmentation(batch)\n",
    "            \n",
    "            img_index = 0\n",
    "            for aug_img in augmented_batch:\n",
    "\n",
    "                aug_img_path = '{}/{:04}-{:02}.jpg'.format(output_dir, img_index, aug_index)\n",
    "                aug_img = tf.image.convert_image_dtype(aug_img/255.0, dtype=tf.uint8)\n",
    "                aug_img = tf.image.encode_jpeg(aug_img)\n",
    "                tf.io.write_file(aug_img_path, aug_img)                \n",
    "                \n",
    "                img_index += 1\n",
    "            aug_index += 1  \n",
    "        index += 1\n",
    "        \n",
    "!open {output_dir}"
   ]
  },
  {
   "cell_type": "code",
   "execution_count": null,
   "metadata": {},
   "outputs": [],
   "source": []
  }
 ],
 "metadata": {
  "kernelspec": {
   "display_name": "TensorFlow Latest",
   "language": "python",
   "name": "tf"
  },
  "language_info": {
   "codemirror_mode": {
    "name": "ipython",
    "version": 3
   },
   "file_extension": ".py",
   "mimetype": "text/x-python",
   "name": "python",
   "nbconvert_exporter": "python",
   "pygments_lexer": "ipython3",
   "version": "3.6.12"
  }
 },
 "nbformat": 4,
 "nbformat_minor": 4
}
