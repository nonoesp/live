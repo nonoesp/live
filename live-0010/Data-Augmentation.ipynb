{
 "cells": [
  {
   "cell_type": "code",
   "execution_count": 195,
   "metadata": {},
   "outputs": [
    {
     "data": {
      "text/plain": [
       "'2.3.1'"
      ]
     },
     "execution_count": 195,
     "metadata": {},
     "output_type": "execute_result"
    }
   ],
   "source": [
    "import os\n",
    "from PIL import Image\n",
    "import matplotlib.pyplot as plt\n",
    "import tensorflow as tf\n",
    "tf.__version__"
   ]
  },
  {
   "cell_type": "code",
   "execution_count": 196,
   "metadata": {},
   "outputs": [],
   "source": [
    "data_augmentation = tf.keras.Sequential([\n",
    "    tf.keras.layers.experimental.preprocessing.RandomFlip(\"horizontal_and_vertical\"),\n",
    "    tf.keras.layers.experimental.preprocessing.RandomRotation(0.2),\n",
    "    tf.keras.layers.experimental.preprocessing.RandomZoom(height_factor=.7, width_factor=0.7),    \n",
    "])"
   ]
  },
  {
   "cell_type": "code",
   "execution_count": null,
   "metadata": {},
   "outputs": [],
   "source": []
  },
  {
   "cell_type": "code",
   "execution_count": 197,
   "metadata": {},
   "outputs": [
    {
     "name": "stdout",
     "output_type": "stream",
     "text": [
      "Augmenting 30 images in ./dataset-raw/Black & White..\n",
      "Batch 1 (30, 224, 224, 3)\n",
      "Augmenting 32 images in ./dataset-raw/Color..\n",
      "Batch 1 (32, 224, 224, 3)\n"
     ]
    }
   ],
   "source": [
    "def load_img(img_path):\n",
    "    img = tf.io.read_file(img_path)\n",
    "    img = tf.image.decode_jpeg(img, channels=3)\n",
    "    img = tf.image.resize(img, size=(224,224))\n",
    "    return img\n",
    "\n",
    "directories = [\n",
    "    \"./dataset-raw/Black & White\",\n",
    "    \"./dataset-raw/Color\",\n",
    "]\n",
    "\n",
    "for directory in directories:\n",
    "\n",
    "    glob_pattern = \"{}/*.jpg\".format(directory)\n",
    "    dataset = tf.data.Dataset.list_files(glob_pattern)\n",
    "    images = dataset.map(load_img)\n",
    "\n",
    "    print('Augmenting {} images in {}..'.format(len(images), directory))\n",
    "    \n",
    "    index = 0\n",
    "    batch_size = len(images)\n",
    "    output_dir = '{}-augmented'.format(directory)\n",
    "    if not os.path.exists(output_dir):\n",
    "        os.makedirs(output_dir)\n",
    "    augmentations = 9\n",
    "    \n",
    "    for batch in images.batch(batch_size):\n",
    "        print('Batch {} {}'.format(index + 1, batch.shape))\n",
    "\n",
    "        aug_index = 0\n",
    "        for i in range(augmentations):\n",
    "            augmented_batch = data_augmentation(batch)\n",
    "            \n",
    "            img_index = 0\n",
    "            for aug_img in augmented_batch:\n",
    "\n",
    "                aug_img_path = '{}/{:04}-{:02}.jpg'.format(output_dir, img_index, aug_index)\n",
    "                aug_img = tf.image.convert_image_dtype(aug_img/255.0, dtype=tf.uint8)\n",
    "                aug_img = tf.image.encode_jpeg(aug_img)\n",
    "                tf.io.write_file(aug_img_path, aug_img)                \n",
    "                \n",
    "                img_index += 1\n",
    "            aug_index += 1  \n",
    "        index += 1\n",
    "        \n",
    "!open {output_dir}"
   ]
  },
  {
   "cell_type": "code",
   "execution_count": 198,
   "metadata": {},
   "outputs": [],
   "source": [
    "# amount = 9\n",
    "# for i in range(amount):\n",
    "#     augmented_image = data_augmentation(input)\n",
    "#     ax = plt.subplot(3, 3, i + 1)\n",
    "#     plt.imshow(augmented_image[0], cmap='gray')\n",
    "#     plt.axis('off')"
   ]
  }
 ],
 "metadata": {
  "kernelspec": {
   "display_name": "TensorFlow 2.3.1 ML",
   "language": "python",
   "name": "tf-2.3.1"
  },
  "language_info": {
   "codemirror_mode": {
    "name": "ipython",
    "version": 3
   },
   "file_extension": ".py",
   "mimetype": "text/x-python",
   "name": "python",
   "nbconvert_exporter": "python",
   "pygments_lexer": "ipython3",
   "version": "3.8.5"
  }
 },
 "nbformat": 4,
 "nbformat_minor": 4
}
